{
 "cells": [
  {
   "cell_type": "code",
   "execution_count": null,
   "metadata": {},
   "outputs": [],
   "source": [
    "#hide\n",
    "from omeka_s_tools.api import OmekaAPIClient"
   ]
  },
  {
   "cell_type": "markdown",
   "metadata": {},
   "source": [
    "# Omeka S Tools\n",
    "\n",
    "> Tools for working with data in an instance of Omeka S"
   ]
  },
  {
   "cell_type": "markdown",
   "metadata": {},
   "source": [
    "## Install"
   ]
  },
  {
   "cell_type": "markdown",
   "metadata": {},
   "source": [
    "`pip install omeka-s-tools`"
   ]
  },
  {
   "cell_type": "markdown",
   "metadata": {},
   "source": [
    "## How to use\n",
    "\n",
    "See [the documentation](https://wragge.github.io/omeka_s_tools/)."
   ]
  },
  {
   "cell_type": "code",
   "execution_count": null,
   "metadata": {},
   "outputs": [],
   "source": [
    "omeka = OmekaAPIClient('http://timsherratt.org/collections/api')"
   ]
  },
  {
   "cell_type": "code",
   "execution_count": null,
   "metadata": {},
   "outputs": [
    {
     "data": {
      "text/plain": [
       "49"
      ]
     },
     "execution_count": null,
     "metadata": {},
     "output_type": "execute_result"
    }
   ],
   "source": [
    "items = omeka.get_resources('items')\n",
    "items['total_results']"
   ]
  },
  {
   "cell_type": "code",
   "execution_count": null,
   "metadata": {},
   "outputs": [
    {
     "data": {
      "text/plain": [
       "{'@context': 'http://timsherratt.org/collections/api-context',\n",
       " '@id': 'http://timsherratt.org/collections/api/items/671',\n",
       " '@type': ['o:Item', 'schema:Newspaper'],\n",
       " 'o:id': 671,\n",
       " 'o:is_public': True,\n",
       " 'o:owner': {'@id': 'http://timsherratt.org/collections/api/users/1',\n",
       "  'o:id': 1},\n",
       " 'o:resource_class': {'@id': 'http://timsherratt.org/collections/api/resource_classes/161',\n",
       "  'o:id': 161},\n",
       " 'o:resource_template': {'@id': 'http://timsherratt.org/collections/api/resource_templates/5',\n",
       "  'o:id': 5},\n",
       " 'o:thumbnail': None,\n",
       " 'o:title': \"Newcastle Morning Herald and Miners' Advocate (NSW : 1876 - 1954)\",\n",
       " 'thumbnail_display_urls': {'large': None, 'medium': None, 'square': None},\n",
       " 'o:created': {'@value': '2022-01-20T06:36:11+00:00',\n",
       "  '@type': 'http://www.w3.org/2001/XMLSchema#dateTime'},\n",
       " 'o:modified': {'@value': '2022-01-20T06:36:11+00:00',\n",
       "  '@type': 'http://www.w3.org/2001/XMLSchema#dateTime'},\n",
       " 'o:media': [],\n",
       " 'o:item_set': [],\n",
       " 'o:site': [],\n",
       " 'schema:name': [{'type': 'literal',\n",
       "   'property_id': 1116,\n",
       "   'property_label': 'name',\n",
       "   'is_public': True,\n",
       "   '@value': \"Newcastle Morning Herald and Miners' Advocate (NSW : 1876 - 1954)\"}],\n",
       " 'schema:url': [{'type': 'uri',\n",
       "   'property_id': 393,\n",
       "   'property_label': 'url',\n",
       "   'is_public': True,\n",
       "   '@id': 'http://nla.gov.au/nla.news-title356'}],\n",
       " 'schema:identifier': [{'type': 'literal',\n",
       "   'property_id': 190,\n",
       "   'property_label': 'identifier',\n",
       "   'is_public': True,\n",
       "   '@value': '356'}]}"
      ]
     },
     "execution_count": null,
     "metadata": {},
     "output_type": "execute_result"
    }
   ],
   "source": [
    "items['results'][0]"
   ]
  },
  {
   "cell_type": "markdown",
   "metadata": {},
   "source": [
    "See [the documentation](https://wragge.github.io/omeka_s_tools/) for more examples."
   ]
  },
  {
   "cell_type": "code",
   "execution_count": null,
   "metadata": {},
   "outputs": [],
   "source": []
  }
 ],
 "metadata": {
  "kernelspec": {
   "display_name": "Python 3 (ipykernel)",
   "language": "python",
   "name": "python3"
  }
 },
 "nbformat": 4,
 "nbformat_minor": 4
}
